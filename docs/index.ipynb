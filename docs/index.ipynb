{
  "cells": [
    {
      "cell_type": "markdown",
      "metadata": {},
      "source": [
        "# Welcome to your Jupyter Book\n",
        "\n",
        "What is a Hidden Markov Model (HMM) in cognitive neuroscience? Here, I have gathered and vetted resources to 1) clearly explain the mathematical foundations of HMMs and 2) proivde real world examples in the literature which make use of HMMs.\n",
        "\n",
        "Note: I have created this repository purely as a learning resource for myself. I am no expert and, thus, creating this repo gives me a space to document and demonstrate these Markovian concepts so that I may better understand them. If you would like to contribute, just submit a pull request or send me resources that you believe would be helpful in better understanding HMMs.\n",
        "\n",
        "\n",
        "```{tableofcontents}\n",
        "\n",
        "```"
      ],
      "id": "5631e4c1"
    }
  ],
  "metadata": {
    "kernelspec": {
      "name": "python3",
      "language": "python",
      "display_name": "Python 3 (ipykernel)"
    }
  },
  "nbformat": 4,
  "nbformat_minor": 5
}