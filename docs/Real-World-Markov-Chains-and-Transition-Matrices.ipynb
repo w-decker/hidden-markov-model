{
 "cells": [
  {
   "attachments": {},
   "cell_type": "markdown",
   "metadata": {},
   "source": [
    "# Real World Applications of Markov Chains and Transition Matrices\n",
    "\n",
    "Here we will look into some real world examples in the cognitive and neuroscience literature that make use of Markov Chains and Transition Matrices."
   ]
  },
  {
   "cell_type": "code",
   "execution_count": null,
   "metadata": {},
   "outputs": [],
   "source": []
  }
 ],
 "metadata": {
  "language_info": {
   "name": "python"
  },
  "orig_nbformat": 4
 },
 "nbformat": 4,
 "nbformat_minor": 2
}
