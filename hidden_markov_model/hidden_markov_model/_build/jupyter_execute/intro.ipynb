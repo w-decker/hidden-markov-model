{
 "cells": [
  {
   "cell_type": "markdown",
   "id": "b1833e40",
   "metadata": {},
   "source": [
    "# Welcome Hidden Markov Models!\n",
    "\n",
    "What is a Hidden Markov Model (HMM) in cognitive neuroscience? Here, I have gathered and vetted resources to 1) clearly explain the mathematical foundations of HMMs and 2) proivde real world examples in the literature which make use of HMMs.\n",
    "\n",
    "Note: I have created this repository purely as a learning resource for myself. I am no expert and, thus, creating this repo gives me a space to document and demonstrate these Markovian concepts so that I may better understand them. If you would like to contribute, just submit a pull request or send me resources that you believe would be helpful in better understanding HMMs.\n",
    "\n",
    "```{tableofcontents}\n",
    "\n",
    "```"
   ]
  }
 ],
 "metadata": {
  "jupytext": {
   "cell_metadata_filter": "-all",
   "formats": "md:myst",
   "text_representation": {
    "extension": ".md",
    "format_name": "myst",
    "format_version": 0.13,
    "jupytext_version": "1.14.7"
   }
  },
  "kernelspec": {
   "display_name": "Python 3 (ipykernel)",
   "language": "python",
   "name": "python3"
  },
  "language_info": {
   "codemirror_mode": {
    "name": "ipython",
    "version": 3
   },
   "file_extension": ".py",
   "mimetype": "text/x-python",
   "name": "python",
   "nbconvert_exporter": "python",
   "pygments_lexer": "ipython3",
   "version": "3.10.7"
  },
  "source_map": [
   14
  ]
 },
 "nbformat": 4,
 "nbformat_minor": 5
}