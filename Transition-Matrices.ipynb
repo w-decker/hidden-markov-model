{
 "cells": [
  {
   "attachments": {},
   "cell_type": "markdown",
   "metadata": {},
   "source": [
    "# Transition Matrices\n",
    "\n",
    "Here, we will continue to discuss some of the foundations of HMMs. We will cover...\n",
    "\n",
    "- Transition matrices\n",
    "- Manipulating transition matrices to make inferences\n",
    "\n",
    "---"
   ]
  },
  {
   "attachments": {},
   "cell_type": "markdown",
   "metadata": {},
   "source": [
    "### What is a transition matrix?\n",
    "\n",
    "As seen in the weather example found within the [Introduction](Introduction.ipynb), the visual used to present the weather example is called a _transition diagram_. However this is inefficent to read when working with more states and more transitions. To do this, we can use a _transition matrix_ which I will explain further below.\n",
    "\n",
    "If we are trying to demonstrate the possible transitional probabilites from three states $A, B, C$, how can we do this without having to draw out the diagram? We can use a transition matrix.\n",
    "\n",
    "| --- | $A$ | $B$ | $C$ |\n",
    "| --- | --- | --- | --- |\n",
    "| $A$ |0.50 | 0.25 | 0.25 |\n",
    "| $B$ | 0.33 | 0.33 | 0.33 |\n",
    "| $C$ | 0.9 | 0.05 | 0.05 |\n",
    "\n",
    "This is what a transition matrix may look like. What is the probability of transitioning to $B$ if the current state is $A$? Well, we first look at the left-most column, which represents all the current states. Stop at $A$. Then we continue into $A$'s row until we hit $B$. The probability in that cell is 0.25. So there is a 0.25 probability that we will transition to state $B$ if we are currently on state $A$.\n",
    "\n",
    "---"
   ]
  },
  {
   "attachments": {},
   "cell_type": "markdown",
   "metadata": {},
   "source": [
    "### But how can we take this further?\n",
    "\n",
    "Let $S_0$ represent the initial state. This can be taken further such that \n",
    "\n",
    "$$\n",
    "S_0 = \\begin{pmatrix} 1 \\\\ 0 \\\\ 0 \\end{pmatrix}\n",
    "$$\n",
    "\n",
    "Where $1$ in the vector is the initial state $A$, i.e., where you are currently at. The subsequent $0$s are where you are _not_. This equation is mostly formalism for encoding the initial state of the system. \n",
    "\n",
    "Now let's transition to $S_1$ such that \n",
    "\n",
    "$$\n",
    "S_1 = \\begin{pmatrix} 0.50 \\\\ 0.25 \\\\ 0.25 \\end{pmatrix}\n",
    "$$\n",
    "\n",
    "But how do you go from $S_1$ to $S_2$? What about $S_{500}$? Let's go back to our matrix. As seen in the matrix, if you begin at $A$ there is 0.50 likelihood that you will remain at $A$ and so on for the remaining states. This is essentially multiplying $S_0$ by the $P(S_1)$. Let's break it down in the equation below. \n",
    "\n",
    "$$\n",
    "\\begin{pmatrix} 0.50 \\\\ 0.25 \\\\ 0.25 \\end{pmatrix} = \\begin{pmatrix} 0.50 & 0.25 & 0.25 \\\\ 0.33 & 0.33 & 0.33 \\\\ 0.90 & 0.05 & 0.05 \\end{pmatrix} \\begin{pmatrix} 1 \\\\ 0 \\\\ 0 \\end{pmatrix}\n",
    "$$"
   ]
  }
 ],
 "metadata": {
  "language_info": {
   "name": "python"
  },
  "orig_nbformat": 4
 },
 "nbformat": 4,
 "nbformat_minor": 2
}
