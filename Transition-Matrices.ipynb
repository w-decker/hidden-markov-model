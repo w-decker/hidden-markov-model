{
 "cells": [
  {
   "attachments": {},
   "cell_type": "markdown",
   "metadata": {},
   "source": [
    "# Transition Matrices\n",
    "\n",
    "Here, we will continue to discuss some of the foundations of HMMs. We will cover...\n",
    "\n",
    "- Transition matrices\n",
    "- Manipulating transition matrices to make inferences\n",
    "\n",
    "---"
   ]
  },
  {
   "attachments": {},
   "cell_type": "markdown",
   "metadata": {},
   "source": [
    "### What is a transition matrix?\n",
    "\n",
    "As seen in the weather example found within the [Introduction](Introduction.ipynb), the visual used to present the weather example is called a _transition diagram_. However this is inefficent to read when working with more states and more transitions. To do this, we can use a _transition matrix_ which I will explain further below.\n",
    "\n",
    "If we are trying to demonstrate the possible transitional probabilites from three states $A, B, C$, how can we do this without having to draw out the diagram? We can use a transition matrix.\n",
    "\n",
    "| --- | $A$ | $B$ | $C$ |\n",
    "| --- | --- | --- | --- |\n",
    "| $A$ |0.50 | 0.25 | 0.25 |\n",
    "| $B$ | 0.33 | 0.33 | 0.33 |\n",
    "| $C$ | 0.9 | 0.05 | 0.05 |\n",
    "\n",
    "This is what a transition matrix may look like. What is the probability of transitioning to $B$ if the current state is $A$? Well, we first look at the left-most column, which represents all the current states. Stop at $A$. Then we continue into $A$'s row until we hit $B$. The probability in that cell is 0.25. So there is a 0.25 probability that we will transition to state $B$ if we are currently on state $A$.\n"
   ]
  },
  {
   "cell_type": "code",
   "execution_count": null,
   "metadata": {},
   "outputs": [],
   "source": []
  },
  {
   "cell_type": "code",
   "execution_count": null,
   "metadata": {},
   "outputs": [],
   "source": []
  }
 ],
 "metadata": {
  "language_info": {
   "name": "python"
  },
  "orig_nbformat": 4
 },
 "nbformat": 4,
 "nbformat_minor": 2
}
